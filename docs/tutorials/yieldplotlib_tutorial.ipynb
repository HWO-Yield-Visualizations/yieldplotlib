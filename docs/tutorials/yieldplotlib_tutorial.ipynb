{
 "cells": [
  {
   "cell_type": "markdown",
   "id": "b89e4e327f4c602",
   "metadata": {
    "collapsed": false
   },
   "source": [
    "# Getting started with yieldplotlib\n",
    "\n",
    "## Introduction\n",
    "This tutorial will walk you thorugh some of the basic functionality of yieldplotlib to get you started on generating your own yield visualizations. To run yieldplotlib you need to have at least one AYO output folder, EXOSIMS output folder, or yield input package (YIP). Sample data has been provided in the tutorials folder of this repository for demonstrative purposes. \n",
    "\n",
    "You can also run series of pre-made plots for yield outputs which can be found in the yieldplotlib/src/scripts folder, or accessed through the yieldplotlib pipeline and command line interface."
   ]
  },
  {
   "cell_type": "markdown",
   "id": "bd81add72b0061c8",
   "metadata": {
    "collapsed": false
   },
   "source": [
    "### Imports"
   ]
  },
  {
   "cell_type": "code",
   "execution_count": null,
   "id": "45b087e4efb1fd2f",
   "metadata": {
    "collapsed": false
   },
   "outputs": [],
   "source": [
    "import logging\n",
    "\n",
    "import matplotlib.pyplot as plt\n",
    "from IPython.display import HTML\n",
    "\n",
    "import yieldplotlib as ypl\n",
    "from yieldplotlib.accessibility import AccessibilityManager\n",
    "from yieldplotlib.logger import logger\n",
    "from yieldplotlib.plots.yip_plots import make_offax_psf_movie, plot_core_throughtput"
   ]
  },
  {
   "cell_type": "markdown",
   "id": "caac767705351567",
   "metadata": {
    "collapsed": false
   },
   "source": [
    "### Loading Yield Data"
   ]
  },
  {
   "cell_type": "markdown",
   "id": "6ee6ec87b52bdf5",
   "metadata": {
    "collapsed": false
   },
   "source": [
    " Yieldplotlib uses a key map to equate parameters between EXOSIMS and AYO (and\n",
    "  potential future yield codes). This key map is pulled daily from a collaborative Google Sheet to the GitHub repository in the form of a key_map.csv file. To see all the possible named parameters that can be plotted in yieldplotlib, consult documentation or the first column of that CSV file/Google Sheet. \n",
    "\n",
    "In order to convert this CSV to the key_map.py file that is needed by yieldplotlib to parse the yield output directories, the user should run:\n",
    "\n",
    "`python generate_key_map.py --csv key_map.csv`\n",
    "\n",
    "This will populate a key_map.py file containing all the proper mappings. Now we can load our sample AYO and EXOSIMS data using the AYODirectory and EXOSIMSDirectory classes.  "
   ]
  },
  {
   "cell_type": "code",
   "execution_count": null,
   "id": "f81af9f7cf0da38f",
   "metadata": {
    "collapsed": false
   },
   "outputs": [],
   "source": [
    "%%capture\n",
    "logger.setLevel(logging.ERROR)\n",
    "# Load the sample data provided in the GitHub repository\n",
    "ayo = ypl.fetch_ayo_data()\n",
    "exosims = ypl.fetch_exosims_data()\n",
    "\n",
    "\n",
    "# Normally this looks more like this:\n",
    "# ayo_folder = Path(\"sample_data/ayo\")\n",
    "# exosims_folder = Path(\"sample_data/exosims\")\n",
    "# ayo = AYODirectory(ayo_folder)\n",
    "# exosims = EXOSIMSDirectory(exosims_folder)"
   ]
  },
  {
   "cell_type": "markdown",
   "id": "bfb770276dd32058",
   "metadata": {
    "collapsed": false
   },
   "source": [
    "Now that we have loaded our directories, we can display the file structure to see what is contained in our yield outputs at a glance."
   ]
  },
  {
   "cell_type": "code",
   "execution_count": null,
   "id": "923b00fc669a6ffb",
   "metadata": {
    "collapsed": false
   },
   "outputs": [],
   "source": [
    "logger.setLevel(logging.WARNING)\n",
    "print(exosims.display_tree())\n",
    "print(ayo.display_tree())"
   ]
  },
  {
   "cell_type": "markdown",
   "id": "8e287d82caf8accd",
   "metadata": {
    "collapsed": false
   },
   "source": [
    "## Accessing Data and Generating Plots \n",
    "We have our data loaded and can now start accessing it and generating \n",
    "plots!"
   ]
  },
  {
   "cell_type": "markdown",
   "id": "6d27983ef5d390ab",
   "metadata": {
    "collapsed": false
   },
   "source": [
    "### Get Data\n",
    "Data can be accessed from the AYODirectory and EXOSIMSDirectory using the .get() function which takes the named yieldplotlib keys as input and outputs the corresponding values. This can be in the form of singular values or arrays."
   ]
  },
  {
   "cell_type": "code",
   "execution_count": null,
   "id": "c22892b22576bae",
   "metadata": {
    "collapsed": false
   },
   "outputs": [],
   "source": [
    "# Pupil diameter\n",
    "ayo_pup = ayo.get(\"pupil_diam\")\n",
    "exo_pup = exosims.get(\"pupil_diam\")\n",
    "print(f\"Pupil diameters are:\\nAYO: {ayo_pup} \\nEXOSIMS: {exo_pup}\")\n",
    "\n",
    "# ExoEarth yields\n",
    "ayo_yield = ayo.get(\"yield_earth\")\n",
    "exo_yield = exosims.get(\"yield_earth\")\n",
    "print(f\"\\nExoEarth yields are:\\nAYO: {ayo_yield} \\nEXOSIMS: {exo_yield}\")\n",
    "\n",
    "# Target star distances (first 10)\n",
    "ayo_dist = ayo.get(\"star_dist\")\n",
    "exo_dist = exosims.get(\"star_dist\")\n",
    "print(f\"\\nStellar distances (pc) are:\\nAYO: {ayo_dist[:10]} \\nEXOSIMS: {exo_dist[:10]}\")"
   ]
  },
  {
   "cell_type": "markdown",
   "id": "14e148aa68cba687",
   "metadata": {
    "collapsed": false
   },
   "source": [
    "### Generic Plots\n",
    "\n",
    "yieldplotlib expands directly on matplotlib to utilize its functionality and to make plot customization intuitive for those who have familiarity with matplotlib and its features. Below are examples of some of the generic yieldplotlib plots that one can make."
   ]
  },
  {
   "cell_type": "code",
   "execution_count": null,
   "id": "9848320da4a411e2",
   "metadata": {
    "collapsed": false
   },
   "outputs": [],
   "source": [
    "# Histograms\n",
    "\n",
    "fig, ax = plt.subplots(figsize=(8, 6))\n",
    "ax.ypl_hist(exosims, x=\"star_dist\", bins=20, alpha=0.7, label=\"EXOSIMS Stars\")\n",
    "ax.ypl_hist(ayo, x=\"star_dist\", bins=20, alpha=0.7, label=\"AYO Stars\")\n",
    "ax.set_title(\"Distribution of Stellar Distances\")\n",
    "plt.show()"
   ]
  },
  {
   "cell_type": "code",
   "execution_count": null,
   "id": "b712b4a604d5cf5d",
   "metadata": {
    "collapsed": false
   },
   "outputs": [],
   "source": [
    "# Scatter Plots\n",
    "fig, ax = plt.subplots()\n",
    "data = ax.ypl_scatter(ayo, x=\"star_dist\", y=\"star_L\", c=\"star_comp_det\")\n",
    "ax.set_title(\"HZ Completeness (AYO)\")\n",
    "ax.set_yscale(\"log\")\n",
    "plt.colorbar(data)\n",
    "\n",
    "fig, ax = plt.subplots()\n",
    "data = ax.ypl_scatter(exosims, x=\"star_dist\", y=\"star_L\", c=\"star_comp_det\")\n",
    "ax.set_title(\"HZ Completeness (EXOSIMS)\")\n",
    "ax.set_yscale(\"log\")\n",
    "plt.colorbar(data)\n",
    "plt.show()"
   ]
  },
  {
   "cell_type": "markdown",
   "id": "f62480670fdc03c8",
   "metadata": {
    "collapsed": false
   },
   "source": [
    "### Comparative Plots \n",
    "\n",
    "Instead of plotting datasets individually, for comparison purposes it is often desired to plot different yield outputs in a single figure. Here the suite of available yieldplotlib comparative plots should be used. Lets see two examples plotting the same HZ completeness plot as above. "
   ]
  },
  {
   "cell_type": "code",
   "execution_count": null,
   "id": "13e53cfbbf318e11",
   "metadata": {
    "collapsed": false
   },
   "outputs": [],
   "source": [
    "# Two yield runs on same set of axes.\n",
    "\n",
    "fig, ax = plt.subplots()\n",
    "ax.set_title(\"HZ Completeness\")\n",
    "data = ypl.compare(\n",
    "    ax,\n",
    "    [exosims, ayo],\n",
    "    x=\"star_dist\",\n",
    "    y=\"star_L\",\n",
    "    plot_type=\"scatter\",\n",
    "    c=\"star_comp_det\",\n",
    ")\n",
    "ax.set_yscale(\"log\")\n",
    "plt.show()"
   ]
  },
  {
   "cell_type": "code",
   "execution_count": null,
   "id": "d6ede430c07c5414",
   "metadata": {
    "collapsed": false
   },
   "outputs": [],
   "source": [
    "# Two yield runs on different sets of axes.\n",
    "\n",
    "fig, axs = ypl.multi(\n",
    "    [exosims, ayo],\n",
    "    x=\"star_dist\",\n",
    "    y=\"star_L\",\n",
    "    plot_type=\"scatter\",\n",
    "    c=\"star_comp_det\",\n",
    "    sharex=True,\n",
    "    sharey=True,\n",
    "    titles=[\"EXOSIMS\", \"AYO\"],\n",
    ")\n",
    "axs[0, 0].set_yscale(\"log\")\n",
    "plt.show()"
   ]
  },
  {
   "cell_type": "markdown",
   "id": "cbf12f506d0d1557",
   "metadata": {
    "collapsed": false
   },
   "source": [
    "Additionally, we can run more complex analyses on multi-dimensional grids of parameter space. "
   ]
  },
  {
   "cell_type": "code",
   "execution_count": null,
   "id": "38186179426470c9",
   "metadata": {
    "collapsed": false
   },
   "outputs": [],
   "source": [
    "# Plot a grid of parameters against each other.\n",
    "fig, axs = ypl.xy_grid(\n",
    "    [ayo],\n",
    "    [\"star_L\", \"star_dist\"],\n",
    "    [\"MV\", \"Ms\"],\n",
    "    plot_type=\"scatter\",\n",
    "    legend=True,\n",
    ")\n",
    "plt.show()"
   ]
  },
  {
   "cell_type": "code",
   "execution_count": null,
   "id": "c452127a5b50e954",
   "metadata": {
    "collapsed": false
   },
   "outputs": [],
   "source": [
    "# Plot multiple panels with different specifications for each yield run.\n",
    "\n",
    "spec1 = {\n",
    "    \"x\": \"star_L\",\n",
    "    \"y\": \"star_dist\",\n",
    "    \"plot_type\": \"scatter\",\n",
    "    \"c\": \"star_comp_det\",\n",
    "    \"alpha\": 0.7,\n",
    "}\n",
    "spec2 = {\n",
    "    \"x\": \"star_L\",\n",
    "    \"y\": \"star_dist\",\n",
    "    \"plot_type\": \"scatter\",\n",
    "    \"c\": \"exp_time_char\",\n",
    "    \"alpha\": 0.7,\n",
    "}\n",
    "specs = [spec1, spec2]\n",
    "\n",
    "fig, axes = ypl.panel(\n",
    "    [exosims, ayo],\n",
    "    *specs,\n",
    "    figsize=(10, 10),\n",
    "    suptitle=None,\n",
    "    layout=None,\n",
    "    sharex=True,\n",
    "    sharey=True,\n",
    "    titles=[\"HZ Completeness\", \"Exp Time Char\", \"\", \"\"],\n",
    ")\n",
    "axes[1, 0].set_xscale(\"log\")\n",
    "plt.show()"
   ]
  },
  {
   "cell_type": "markdown",
   "id": "c9a2e936b8bd79c",
   "metadata": {
    "collapsed": false
   },
   "source": [
    "## Yield Input Package (YIP) Loading\n",
    "yieldplotlib supports the loading and plotting of yield input packages using yippy as a back end. YIPs specify relevant coronagraph parameters for yield codes and so are often critical inputs to be able to vet and visualize.  "
   ]
  },
  {
   "cell_type": "code",
   "execution_count": null,
   "id": "3c9ee00316d2d052",
   "metadata": {
    "collapsed": false
   },
   "outputs": [],
   "source": [
    "# Load the YIP data\n",
    "yip = ypl.fetch_yip_data()\n",
    "# Normally looks like this\n",
    "# yip_folder = Path(\"sample_data/yip\")\n",
    "# yip = YIPDirectory(yip_folder)"
   ]
  },
  {
   "cell_type": "code",
   "execution_count": null,
   "id": "18d118815a6dec94",
   "metadata": {
    "collapsed": false
   },
   "outputs": [],
   "source": [
    "plot_core_throughtput(\n",
    "    [exosims], [\"EXOSIMS\"], yip=yip, ax_kwargs={\"xlim\": (0, 32), \"ylim\": (0, 0.4)}\n",
    ")"
   ]
  },
  {
   "cell_type": "code",
   "execution_count": null,
   "id": "2641102799748c28",
   "metadata": {
    "collapsed": false
   },
   "outputs": [],
   "source": [
    "# Make GIF animation of the off-axis stellar PSF.\n",
    "ani = make_offax_psf_movie(yip, \"offax_psf_animation.gif\")\n",
    "\n",
    "# Code to easily view the animation in the notebook.\n",
    "HTML(ani.to_jshtml())"
   ]
  },
  {
   "cell_type": "markdown",
   "id": "30c0064b1e73dc3e",
   "metadata": {
    "collapsed": false
   },
   "source": [
    "## Checking Accessibility \n",
    "\n",
    "yieldplotlib has a built-in class to check the accessibility of plots. This includes ensuring that colorbars are monotonic, have adequate range, and that all font sizes are large enough to be easily readable. This class is \n",
    "currently very basic and so is not designed to catch all potential accessibility issues. Instead, it is meant to alert for commonly encountered problems and to make the user think about their choices with intentionality.   "
   ]
  },
  {
   "cell_type": "code",
   "execution_count": null,
   "id": "29999f4e17f11066",
   "metadata": {
    "collapsed": false
   },
   "outputs": [],
   "source": [
    "# Passing Example\n",
    "# Note: colored scatter points will always fail the broad monotonic color check.\n",
    "plt.set_cmap(\"plasma\")\n",
    "fig, ax = plt.subplots()\n",
    "data = ax.ypl_scatter(ayo, x=\"star_dist\", y=\"star_L\", c=\"star_comp_det\")\n",
    "ax.set_title(\"HZ Completeness (AYO)\")\n",
    "plt.colorbar(data)\n",
    "plt.show()\n",
    "\n",
    "am = AccessibilityManager(ax)\n",
    "am.run_checks()"
   ]
  },
  {
   "cell_type": "code",
   "execution_count": null,
   "id": "cac3049a41737280",
   "metadata": {
    "collapsed": false
   },
   "outputs": [],
   "source": [
    "# Failing Example\n",
    "fig, ax = plt.subplots()\n",
    "\n",
    "# Set a bad (non monotonic) colormap.\n",
    "plt.set_cmap(\"gist_rainbow\")\n",
    "\n",
    "data = ax.ypl_scatter(ayo, x=\"star_dist\", y=\"star_L\", c=\"star_comp_det\")\n",
    "ax.set_title(\"HZ Completeness (AYO)\")\n",
    "plt.colorbar(data)\n",
    "\n",
    "# Decrease Font Sizes\n",
    "ax.set_xlabel(\"Star Dist\", fontsize=6)\n",
    "ax.tick_params(axis=\"both\", which=\"major\", labelsize=8)\n",
    "\n",
    "ax.set_title(\"Distribution of Stellar Distances\")\n",
    "plt.show()\n",
    "\n",
    "am = AccessibilityManager(ax)\n",
    "am.run_checks()"
   ]
  },
  {
   "cell_type": "code",
   "execution_count": null,
   "id": "e3f56eb3-a4cb-445a-944f-37b71a1b4953",
   "metadata": {},
   "outputs": [],
   "source": []
  }
 ],
 "metadata": {
  "kernelspec": {
   "display_name": "Python 3 (ipykernel)",
   "language": "python",
   "name": "python3"
  },
  "language_info": {
   "codemirror_mode": {
    "name": "ipython",
    "version": 3
   },
   "file_extension": ".py",
   "mimetype": "text/x-python",
   "name": "python",
   "nbconvert_exporter": "python",
   "pygments_lexer": "ipython3",
   "version": "3.12.7"
  }
 },
 "nbformat": 4,
 "nbformat_minor": 5
}
