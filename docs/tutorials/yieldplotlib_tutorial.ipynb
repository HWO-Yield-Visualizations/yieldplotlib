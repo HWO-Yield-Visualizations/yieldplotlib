{
 "cells": [
  {
   "cell_type": "markdown",
   "id": "b89e4e327f4c602",
   "metadata": {
    "collapsed": false
   },
   "source": [
    "# Getting started with yieldplotlib\n",
    "\n",
    "## Introduction\n",
    "This tutorial will walk you thorugh some of the basic functionality of yieldplotlib to get you started on generating your own yield visualizations. To run yieldplotlib you need to have at least one AYO output folder, EXOSIMS output folder, or yield input package (YIP). Sample data has been provided in the tutorials folder of this repository for demonstrative purposes. \n",
    "\n",
    "You can also run series of pre-made plots for yield outputs which can be found in the yieldplotlib/src/scripts folder, or accessed through the yieldplotlib pipeline and command line interface."
   ]
  },
  {
   "cell_type": "markdown",
   "id": "bd81add72b0061c8",
   "metadata": {
    "collapsed": false
   },
   "source": [
    "### Imports"
   ]
  },
  {
   "cell_type": "code",
   "execution_count": null,
   "id": "45b087e4efb1fd2f",
   "metadata": {
    "collapsed": false
   },
   "outputs": [],
   "source": [
    "from pathlib import Path\n",
    "\n",
    "import matplotlib.pyplot as plt\n",
    "\n",
    "import yieldplotlib as ypl\n",
    "from yieldplotlib.load.ayo_directory import AYODirectory\n",
    "from yieldplotlib.load.exosims_directory import EXOSIMSDirectory"
   ]
  },
  {
   "cell_type": "markdown",
   "id": "caac767705351567",
   "metadata": {
    "collapsed": false
   },
   "source": [
    "### Loading Yield Data"
   ]
  },
  {
   "cell_type": "markdown",
   "id": "6ee6ec87b52bdf5",
   "metadata": {
    "collapsed": false
   },
   "source": [
    " Yieldplotlib uses a key map to equivocate parameters between EXOSIMS and AYO (and potential future yield codes). This key map is pulled daily from a collaborative Google Sheet to the GitHub repository in the form of a key_map.csv file. To see all the possible named parameters that can be plotted in yieldplotlib, consult documentation or the first column of that CSV file/Google Sheet. \n",
    "\n",
    "In order to convert this CSV to the key_map.py file that is needed by yieldplotlib to parse the yield output directories, the user should run:\n",
    "\n",
    "`python generate_key_map.py --csv key_map.csv`\n",
    "\n",
    "This will populate a key_map.py file containing all the proper mappings. Now we can load our sample AYO and EXOSIMS data using the AYODirectory and EXOSIMSDirectory classes.  "
   ]
  },
  {
   "cell_type": "code",
   "execution_count": null,
   "id": "f81af9f7cf0da38f",
   "metadata": {
    "collapsed": false
   },
   "outputs": [],
   "source": [
    "ayo_folder = Path(\"sample_data/ayo\")\n",
    "exosims_folder = Path(\"sample_data/exosims\")"
   ]
  },
  {
   "cell_type": "code",
   "execution_count": null,
   "id": "b2c92aa2a7e04972",
   "metadata": {
    "collapsed": false
   },
   "outputs": [],
   "source": [
    "ayo = AYODirectory(ayo_folder)\n",
    "exosims = EXOSIMSDirectory(exosims_folder)"
   ]
  },
  {
   "cell_type": "markdown",
   "id": "bfb770276dd32058",
   "metadata": {
    "collapsed": false
   },
   "source": [
    "Now that we have loaded our directories, we can display the file structure to see what is contained in our yield outputs at a glance."
   ]
  },
  {
   "cell_type": "code",
   "execution_count": null,
   "id": "923b00fc669a6ffb",
   "metadata": {
    "collapsed": false
   },
   "outputs": [],
   "source": [
    "print(exosims.display_tree())\n",
    "print(ayo.display_tree())"
   ]
  },
  {
   "cell_type": "markdown",
   "id": "8e287d82caf8accd",
   "metadata": {
    "collapsed": false
   },
   "source": [
    "## Accessing Data and Generating Plots \n",
    "We have our data and can now start accessing the data and generating plots!"
   ]
  },
  {
   "cell_type": "markdown",
   "id": "6d27983ef5d390ab",
   "metadata": {
    "collapsed": false
   },
   "source": [
    "### Get Data\n",
    "Data can be accessed from the AYODirectory and EXOSIMSDirectory using the .get() function which takes the named yieldplotlib keys as input and outputs the corresponding values. This can be in the form of singular values or arrays."
   ]
  },
  {
   "cell_type": "code",
   "execution_count": null,
   "id": "c22892b22576bae",
   "metadata": {
    "collapsed": false
   },
   "outputs": [],
   "source": [
    "# Pupil diameter\n",
    "ayo_pup = ayo.get(\"pupil_diam\")\n",
    "exo_pup = exosims.get(\"pupil_diam\")\n",
    "print(f\"Pupil diameters are:\\nAYO: {ayo_pup} \\nEXOSIMS: {exo_pup}\")\n",
    "\n",
    "# ExoEarth yields\n",
    "ayo_yield = ayo.get(\"yield_earth\")\n",
    "exo_yield = exosims.get(\"yield_earth\")\n",
    "print(f\"\\nExoEarth yields are:\\nAYO: {ayo_yield} \\nEXOSIMS: {exo_yield}\")\n",
    "\n",
    "# Target star distances\n",
    "ayo_dist = ayo.get(\"star_dist\")\n",
    "exo_dist = exosims.get(\"star_dist\")\n",
    "print(f\"\\nStellar distances (pc) are:\\nAYO: {ayo_dist} \\nEXOSIMS: {exo_dist}\")"
   ]
  },
  {
   "cell_type": "markdown",
   "id": "14e148aa68cba687",
   "metadata": {
    "collapsed": false
   },
   "source": [
    "### Generic Plots\n",
    "\n",
    "yieldplotlib expands directly on matplotlib to utilize its functionality and to make plot customization intuitive for those who have familiarity with matplotlib and its features. Below are examples of some of the generic yieldplotlib plots that one can make."
   ]
  },
  {
   "cell_type": "code",
   "execution_count": null,
   "id": "9848320da4a411e2",
   "metadata": {
    "collapsed": false
   },
   "outputs": [],
   "source": [
    "# Histograms\n",
    "\n",
    "fig, ax = plt.subplots(figsize=(8, 6))\n",
    "ax.ypl_hist(exosims, x=\"star_dist\", bins=20, alpha=0.7, label=\"EXOSIMS Stars\")\n",
    "ax.ypl_hist(ayo, x=\"star_dist\", bins=20, alpha=0.7, label=\"AYO Stars\")\n",
    "ax.set_title(\"Distribution of Star Distances\")"
   ]
  },
  {
   "cell_type": "code",
   "execution_count": null,
   "id": "b712b4a604d5cf5d",
   "metadata": {
    "collapsed": false
   },
   "outputs": [],
   "source": [
    "# Scatter Plots\n",
    "\n",
    "fig, ax = plt.subplots()\n",
    "data = ax.ypl_scatter(ayo, x=\"star_dist\", y=\"star_L\", c=\"star_comp_det\")\n",
    "ax.set_title(\"HZ Completeness (AYO)\")\n",
    "plt.colorbar(data)\n",
    "\n",
    "fig, ax = plt.subplots()\n",
    "data = ax.ypl_scatter(exosims, x=\"star_dist\", y=\"star_L\", c=\"star_comp_det\")\n",
    "ax.set_title(\"HZ Completeness (EXOSIMS)\")\n",
    "plt.colorbar(data)"
   ]
  },
  {
   "cell_type": "markdown",
   "id": "f62480670fdc03c8",
   "metadata": {
    "collapsed": false
   },
   "source": [
    "### Comparative Plots \n",
    "\n",
    "Instead of plotting datasets individually, for comparison purposes it is often desired to plot different yield outputs in a single figure. Here the suite of available yieldplotlib comparative plots should be used. Lets see two examples plotting the same HZ completeness plot as above. "
   ]
  },
  {
   "cell_type": "code",
   "execution_count": null,
   "id": "13e53cfbbf318e11",
   "metadata": {
    "collapsed": false
   },
   "outputs": [],
   "source": [
    "# Two yield runs on same set of axes.\n",
    "\n",
    "fig, ax = plt.subplots()\n",
    "ax.set_title(\"HZ Completeness\")\n",
    "data = ypl.compare(\n",
    "    ax,\n",
    "    [exosims, ayo],\n",
    "    x=\"star_dist\",\n",
    "    y=\"star_L\",\n",
    "    plot_type=\"scatter\",\n",
    "    c=\"star_comp_det\",\n",
    ")"
   ]
  },
  {
   "cell_type": "code",
   "execution_count": null,
   "id": "d6ede430c07c5414",
   "metadata": {
    "collapsed": false
   },
   "outputs": [],
   "source": [
    "# Two yield runs on different sets of axes.\n",
    "\n",
    "ypl.multi(\n",
    "    [exosims, ayo],\n",
    "    x=\"star_dist\",\n",
    "    y=\"star_L\",\n",
    "    plot_type=\"scatter\",\n",
    "    c=\"star_comp_det\",\n",
    "    figsize=None,\n",
    "    suptitle=None,\n",
    "    layout=None,\n",
    "    sharex=True,\n",
    "    sharey=True,\n",
    "    titles=[\"EXOSIMS\", \"AYO\"],\n",
    ")"
   ]
  },
  {
   "cell_type": "markdown",
   "id": "cbf12f506d0d1557",
   "metadata": {
    "collapsed": false
   },
   "source": [
    "Additionally, we can run more complex analyses on multi-dimensional grids of parameter space. "
   ]
  },
  {
   "cell_type": "code",
   "execution_count": null,
   "id": "38186179426470c9",
   "metadata": {
    "collapsed": false
   },
   "outputs": [],
   "source": [
    "# Plot a grid of parameters against each other.\n",
    "\n",
    "ypl.xy_grid(\n",
    "    [ayo],\n",
    "    [\"star_L\", \"star_dist\"],\n",
    "    [\"MV\", \"star_dist\"],\n",
    "    plot_type=\"scatter\",\n",
    "    figsize=None,\n",
    "    suptitle=\"Stellar Parameters\",\n",
    "    legend=True,\n",
    "    sharex=False,\n",
    "    sharey=False,\n",
    "    titles=None,\n",
    ")"
   ]
  },
  {
   "cell_type": "code",
   "execution_count": null,
   "id": "c452127a5b50e954",
   "metadata": {
    "collapsed": false
   },
   "outputs": [],
   "source": [
    "# Plot multiple panels with different specifications for each yield run.\n",
    "\n",
    "spec1 = {\n",
    "    \"x\": \"star_L\",\n",
    "    \"y\": \"star_dist\",\n",
    "    \"plot_type\": \"scatter\",\n",
    "    \"c\": \"star_comp_det\",\n",
    "    \"alpha\": 0.7,\n",
    "}\n",
    "spec2 = {\n",
    "    \"x\": \"star_L\",\n",
    "    \"y\": \"star_dist\",\n",
    "    \"plot_type\": \"scatter\",\n",
    "    \"c\": \"exp_time_char\",\n",
    "    \"alpha\": 0.7,\n",
    "}\n",
    "specs = [spec1, spec2]\n",
    "\n",
    "fig, axes = ypl.panel(\n",
    "    [exosims, ayo],\n",
    "    *specs,\n",
    "    figsize=None,\n",
    "    suptitle=None,\n",
    "    layout=None,\n",
    "    sharex=True,\n",
    "    sharey=True,\n",
    "    titles=[\"HZ Completeness\", \"Exp Time Char\", \"\", \"\"],\n",
    ")"
   ]
  }
 ],
 "metadata": {
  "kernelspec": {
   "display_name": "Python 3 (ipykernel)",
   "language": "python",
   "name": "python3"
  },
  "language_info": {
   "codemirror_mode": {
    "name": "ipython",
    "version": 3
   },
   "file_extension": ".py",
   "mimetype": "text/x-python",
   "name": "python",
   "nbconvert_exporter": "python",
   "pygments_lexer": "ipython3",
   "version": "3.12.4"
  }
 },
 "nbformat": 4,
 "nbformat_minor": 5
}
